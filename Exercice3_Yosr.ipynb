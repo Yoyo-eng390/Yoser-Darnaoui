{
  "nbformat": 4,
  "nbformat_minor": 0,
  "metadata": {
    "colab": {
      "provenance": []
    },
    "kernelspec": {
      "name": "python3",
      "display_name": "Python 3"
    },
    "language_info": {
      "name": "python"
    }
  },
  "cells": [
    {
      "cell_type": "code",
      "source": [
        "import nltk\n",
        "from nltk.corpus import brown\n",
        "from nltk.tokenize import RegexpTokenizer\n",
        "\n",
        "# Download once\n",
        "nltk.download('brown')\n",
        "nltk.download('punkt')\n",
        "\n",
        "# Load and clean the corpus\n",
        "tokenizer = RegexpTokenizer(r'\\w+')\n",
        "text = brown.words()\n",
        "tokens = tokenizer.tokenize(\" \".join(text))\n",
        "tokens = [word.lower() for word in tokens]\n"
      ],
      "metadata": {
        "colab": {
          "base_uri": "https://localhost:8080/"
        },
        "id": "4dJebEvQ6yRc",
        "outputId": "a1d370cb-5846-4ec6-8f0f-7e8271ded82c"
      },
      "execution_count": 5,
      "outputs": [
        {
          "output_type": "stream",
          "name": "stderr",
          "text": [
            "[nltk_data] Downloading package brown to /root/nltk_data...\n",
            "[nltk_data]   Package brown is already up-to-date!\n",
            "[nltk_data] Downloading package punkt to /root/nltk_data...\n",
            "[nltk_data]   Package punkt is already up-to-date!\n"
          ]
        }
      ]
    },
    {
      "cell_type": "code",
      "source": [
        "def generate_ngrams(tokens, n):\n",
        "    ngrams = []\n",
        "    for i in range(len(tokens) - n + 1):\n",
        "        ngram = tokens[i:i+n]\n",
        "        ngrams.append(ngram)\n",
        "    return ngrams\n"
      ],
      "metadata": {
        "id": "V127vF6z61oi"
      },
      "execution_count": 6,
      "outputs": []
    },
    {
      "cell_type": "code",
      "source": [
        "trigrams = generate_ngrams(tokens, 3)\n",
        "print(trigrams[:5])\n"
      ],
      "metadata": {
        "colab": {
          "base_uri": "https://localhost:8080/"
        },
        "id": "nICPz6SZ644m",
        "outputId": "90e1fff2-6531-4a52-e4a4-6544a4cfa07b"
      },
      "execution_count": 7,
      "outputs": [
        {
          "output_type": "stream",
          "name": "stdout",
          "text": [
            "[['the', 'fulton', 'county'], ['fulton', 'county', 'grand'], ['county', 'grand', 'jury'], ['grand', 'jury', 'said'], ['jury', 'said', 'friday']]\n"
          ]
        }
      ]
    },
    {
      "cell_type": "code",
      "source": [
        "from collections import Counter\n",
        "\n",
        "def count_ngram_frequencies(ngrams):\n",
        "    ngram_strings = [\" \".join(ng) for ng in ngrams]\n",
        "    return Counter(ngram_strings)\n"
      ],
      "metadata": {
        "id": "3g2bZkIO67yi"
      },
      "execution_count": 8,
      "outputs": []
    },
    {
      "cell_type": "markdown",
      "source": [
        "**Example**"
      ],
      "metadata": {
        "id": "Ohle7P9l6-v2"
      }
    },
    {
      "cell_type": "code",
      "source": [
        "trigram_freqs = count_ngram_frequencies(trigrams)\n",
        "print(trigram_freqs.most_common(5))\n"
      ],
      "metadata": {
        "colab": {
          "base_uri": "https://localhost:8080/"
        },
        "id": "HpMVGufm69wU",
        "outputId": "3a0c7ec6-d6c7-4109-9e04-d91771fd97ff"
      },
      "execution_count": 9,
      "outputs": [
        {
          "output_type": "stream",
          "name": "stdout",
          "text": [
            "[('one of the', 404), ('the united states', 340), ('as well as', 238), ('some of the', 179), ('out of the', 176)]\n"
          ]
        }
      ]
    },
    {
      "cell_type": "code",
      "source": [
        "def predict_next_word(tokens, input_seq, n=3, k=5):\n",
        "    ngrams = generate_ngrams(tokens, n)\n",
        "    prefix = input_seq.lower().split()[-(n-1):]\n",
        "\n",
        "    candidates = []\n",
        "    for ng in ngrams:\n",
        "        if ng[:n-1] == prefix:\n",
        "            candidates.append(ng[-1])\n",
        "\n",
        "    freq = Counter(candidates)\n",
        "    return freq.most_common(k)\n"
      ],
      "metadata": {
        "id": "CMRPkyuP7C37"
      },
      "execution_count": 10,
      "outputs": []
    },
    {
      "cell_type": "code",
      "source": [
        "predict_next_word(tokens, \"the united\", n=3, k=5)\n",
        "# Output: [('states', 340), ...]\n"
      ],
      "metadata": {
        "colab": {
          "base_uri": "https://localhost:8080/"
        },
        "id": "Yq_Lu-s17E1b",
        "outputId": "fc88ef77-67ec-43a2-a2b9-eb82deb9740e"
      },
      "execution_count": 11,
      "outputs": [
        {
          "output_type": "execute_result",
          "data": {
            "text/plain": [
              "[('states', 340), ('nations', 44), ('irish', 1), ('arab', 1), ('steel', 1)]"
            ]
          },
          "metadata": {},
          "execution_count": 11
        }
      ]
    },
    {
      "cell_type": "code",
      "source": [
        "while True:\n",
        "    user_input = input(\"Enter a phrase: \")\n",
        "    if user_input == \"exit\":\n",
        "        break\n",
        "    predictions = predict_next_word(tokens, user_input, n=3, k=5)\n",
        "    print(\"Predictions:\", predictions)"
      ],
      "metadata": {
        "colab": {
          "base_uri": "https://localhost:8080/"
        },
        "id": "W7IM_1Z77mR-",
        "outputId": "bf1c4794-603d-4aa3-b235-cc1ed5cfc104"
      },
      "execution_count": 13,
      "outputs": [
        {
          "name": "stdout",
          "output_type": "stream",
          "text": [
            "Enter a phrase: as well\n",
            "Predictions: [('as', 238), ('for', 7), ('to', 4), ('the', 4), ('that', 3)]\n",
            "Enter a phrase: one of\n",
            "Predictions: [('the', 404), ('his', 42), ('those', 34), ('these', 33), ('them', 31)]\n",
            "Enter a phrase: part of\n",
            "Predictions: [('the', 144), ('a', 19), ('his', 17), ('it', 14), ('this', 11)]\n",
            "Enter a phrase: the united\n",
            "Predictions: [('states', 340), ('nations', 44), ('irish', 1), ('arab', 1), ('steel', 1)]\n",
            "Enter a phrase: exit\n"
          ]
        }
      ]
    }
  ]
}