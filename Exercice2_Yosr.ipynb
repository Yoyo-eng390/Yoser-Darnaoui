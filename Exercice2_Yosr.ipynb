{
  "nbformat": 4,
  "nbformat_minor": 0,
  "metadata": {
    "colab": {
      "provenance": []
    },
    "kernelspec": {
      "name": "python3",
      "display_name": "Python 3"
    },
    "language_info": {
      "name": "python"
    }
  },
  "cells": [
    {
      "cell_type": "code",
      "source": [
        "!pip install nltk scikit-learn\n"
      ],
      "metadata": {
        "colab": {
          "base_uri": "https://localhost:8080/"
        },
        "id": "UIblK9fZhJyV",
        "outputId": "cafeb9bf-2810-4f96-d638-539f8330d1a4"
      },
      "execution_count": null,
      "outputs": [
        {
          "output_type": "stream",
          "name": "stdout",
          "text": [
            "Requirement already satisfied: nltk in /usr/local/lib/python3.11/dist-packages (3.9.1)\n",
            "Requirement already satisfied: scikit-learn in /usr/local/lib/python3.11/dist-packages (1.6.1)\n",
            "Requirement already satisfied: click in /usr/local/lib/python3.11/dist-packages (from nltk) (8.2.1)\n",
            "Requirement already satisfied: joblib in /usr/local/lib/python3.11/dist-packages (from nltk) (1.5.1)\n",
            "Requirement already satisfied: regex>=2021.8.3 in /usr/local/lib/python3.11/dist-packages (from nltk) (2024.11.6)\n",
            "Requirement already satisfied: tqdm in /usr/local/lib/python3.11/dist-packages (from nltk) (4.67.1)\n",
            "Requirement already satisfied: numpy>=1.19.5 in /usr/local/lib/python3.11/dist-packages (from scikit-learn) (2.0.2)\n",
            "Requirement already satisfied: scipy>=1.6.0 in /usr/local/lib/python3.11/dist-packages (from scikit-learn) (1.15.3)\n",
            "Requirement already satisfied: threadpoolctl>=3.1.0 in /usr/local/lib/python3.11/dist-packages (from scikit-learn) (3.6.0)\n"
          ]
        }
      ]
    },
    {
      "cell_type": "code",
      "source": [
        "import pandas as pd\n",
        "import nltk\n",
        "import string\n",
        "from sklearn.feature_extraction.text import TfidfVectorizer\n",
        "from sklearn.metrics.pairwise import cosine_similarity\n",
        "from nltk.corpus import stopwords\n",
        "from nltk.stem import WordNetLemmatizer\n",
        "from sklearn.metrics import jaccard_score\n",
        "from sklearn.preprocessing import MultiLabelBinarizer\n",
        "\n",
        "nltk.download('stopwords')\n",
        "nltk.download('punkt')\n",
        "nltk.download('wordnet')\n",
        "nltk.download('punkt_tab')\n",
        "\n",
        "# Load data\n",
        "df = pd.read_csv(\"/content/NikeProductDescriptions (1).csv\")\n",
        "\n",
        "# Text preprocessing function\n",
        "def preprocess(text):\n",
        "    # Lowercase\n",
        "    text = text.lower()\n",
        "    # Remove punctuation\n",
        "    text = text.translate(str.maketrans('', '', string.punctuation))\n",
        "    # Tokenize\n",
        "    tokens = nltk.word_tokenize(text)\n",
        "    # Remove stopwords\n",
        "    stop_words = set(stopwords.words('english'))\n",
        "    tokens = [t for t in tokens if t not in stop_words]\n",
        "    # Lemmatization\n",
        "    lemmatizer = WordNetLemmatizer()\n",
        "    tokens = [lemmatizer.lemmatize(t) for t in tokens]\n",
        "    return ' '.join(tokens), set(tokens)  # For TF-IDF and Jaccard\n",
        "\n",
        "# Apply preprocessing\n",
        "df['clean_text'], df['token_set'] = zip(*df['Product Description'].map(preprocess))\n",
        "\n",
        "# ----- TF-IDF + Cosine Similarity -----\n",
        "tfidf = TfidfVectorizer()\n",
        "tfidf_matrix = tfidf.fit_transform(df['clean_text'])\n",
        "\n",
        "cosine_sim_matrix = cosine_similarity(tfidf_matrix)\n",
        "\n",
        "# Example: show top 5 most similar descriptions (excluding itself) for product 0\n",
        "top_cosine_sim = cosine_sim_matrix[0].argsort()[::-1][1:6]\n",
        "print(\"Top 5 similar (TF-IDF + Cosine) to product 0:\")\n",
        "for i in top_cosine_sim:\n",
        "    print(f\"- Product {i} | Similarity: {cosine_sim_matrix[0][i]:.3f}\")\n",
        "\n",
        "# ----- Jaccard Similarity -----\n",
        "# Use sets of tokens and compute Jaccard index\n",
        "def jaccard_sim(set1, set2):\n",
        "    return len(set1 & set2) / len(set1 | set2)\n",
        "\n",
        "# Example: compute Jaccard similarity between product 0 and all others\n",
        "jaccard_scores = [jaccard_sim(df['token_set'][0], df['token_set'][i]) for i in range(len(df))]\n",
        "\n",
        "top_jaccard_sim = sorted(list(enumerate(jaccard_scores)), key=lambda x: x[1], reverse=True)[1:6]\n",
        "print(\"\\nTop 5 similar (Jaccard) to product 0:\")\n",
        "for i, score in top_jaccard_sim:\n",
        "    print(f\"- Product {i} | Jaccard: {score:.3f}\")"
      ],
      "metadata": {
        "colab": {
          "base_uri": "https://localhost:8080/"
        },
        "id": "njN0X-9ZhRBn",
        "outputId": "142a2744-f54c-421b-d564-48914ab41127"
      },
      "execution_count": null,
      "outputs": [
        {
          "output_type": "stream",
          "name": "stderr",
          "text": [
            "[nltk_data] Downloading package stopwords to /root/nltk_data...\n",
            "[nltk_data]   Package stopwords is already up-to-date!\n",
            "[nltk_data] Downloading package punkt to /root/nltk_data...\n",
            "[nltk_data]   Package punkt is already up-to-date!\n",
            "[nltk_data] Downloading package wordnet to /root/nltk_data...\n",
            "[nltk_data]   Package wordnet is already up-to-date!\n",
            "[nltk_data] Downloading package punkt_tab to /root/nltk_data...\n",
            "[nltk_data]   Package punkt_tab is already up-to-date!\n"
          ]
        },
        {
          "output_type": "stream",
          "name": "stdout",
          "text": [
            "Top 5 similar (TF-IDF + Cosine) to product 0:\n",
            "- Product 14 | Similarity: 0.285\n",
            "- Product 159 | Similarity: 0.230\n",
            "- Product 343 | Similarity: 0.159\n",
            "- Product 6 | Similarity: 0.155\n",
            "- Product 163 | Similarity: 0.149\n",
            "\n",
            "Top 5 similar (Jaccard) to product 0:\n",
            "- Product 14 | Jaccard: 0.220\n",
            "- Product 159 | Jaccard: 0.164\n",
            "- Product 335 | Jaccard: 0.125\n",
            "- Product 37 | Jaccard: 0.121\n",
            "- Product 7 | Jaccard: 0.119\n"
          ]
        }
      ]
    }
  ]
}